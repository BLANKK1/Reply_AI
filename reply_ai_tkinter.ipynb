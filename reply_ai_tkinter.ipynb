{
 "cells": [
  {
   "cell_type": "code",
   "execution_count": 2,
   "id": "3b0318ee-1c18-4542-a49c-babae790b576",
   "metadata": {},
   "outputs": [],
   "source": [
    "#Importing Required Libraries\n",
    "from tkinter import*\n",
    "from langchain_google_genai import ChatGoogleGenerativeAI"
   ]
  },
  {
   "cell_type": "code",
   "execution_count": 5,
   "id": "36676363-7291-47c3-a6cf-2be4b4d8e858",
   "metadata": {},
   "outputs": [],
   "source": [
    "#prompt function\n",
    "def answer():\n",
    "    inp = T.get(1.0, \"end-1c\")\n",
    "    mytone=tone.get()\n",
    "    full_text=\"Reply to \"+ inp + \" in \" + mytone + \" tone. \"\n",
    "    llm = ChatGoogleGenerativeAI(model=\"gemini-pro\")\n",
    "    a=llm.invoke(full_text)\n",
    "    label.config(text=a.content)\n",
    "#Clear function\n",
    "def new_answer():\n",
    "    label.config(text=\"\")"
   ]
  },
  {
   "cell_type": "code",
   "execution_count": 7,
   "id": "b97e2945-c00a-4ae2-9969-edd32d40f716",
   "metadata": {},
   "outputs": [],
   "source": [
    "tk = Tk()\n",
    "tk.title(\"Generative AI\")\n",
    "tk.geometry(\"500x450\")\n",
    "\n",
    "#Chat entry label\n",
    "Label(tk, text=\"Enter Chat\", font=(\"Arial\", 12)).grid(row=0, column=0, padx=10, pady=10)\n",
    "Label(tk, text=\"Reply Tone\", font=(\"Arial\", 12)).grid(row=2, column=0, padx=10, pady=10)\n",
    "\n",
    "#textbox for input\n",
    "T = Text(tk, height=10, width=30, font=(\"Arial\", 12))\n",
    "T.grid(row=0, column=1, padx=10, pady=10, rowspan=2)\n",
    "inp = T.get(1.0, \"end-1c\")\n",
    "\n",
    "#Dropdown menu to set tone\n",
    "tone = StringVar()\n",
    "tone.set(\"Choose\")\n",
    "tone_dropdown = OptionMenu(tk, tone, \"Formal\", \"Casual\", \"Flirty\", \"Friendly\")\n",
    "tone_dropdown.grid(row=2, column=1, padx=10, pady=10)\n",
    "mytone=tone.get()\n",
    "\n",
    "#button frame\n",
    "button_frame = Frame(tk)\n",
    "button_frame.grid(row=3, column=0, columnspan=2, padx=10, pady=10)\n",
    "\n",
    "#Button to generate ai prompt\n",
    "Generate_button = Button(button_frame, text=\"GENERATE\", width=15, font=(\"Arial\", 12), command=answer)\n",
    "Generate_button.pack(side=LEFT, padx=10)\n",
    "\n",
    "#Clear button to clear prompt\n",
    "Clear_Output_button = Button(button_frame, text=\"CLEAR PROMPT\", width=15, font=(\"Arial\", 12), command=new_answer)\n",
    "Clear_Output_button.pack(side=LEFT, padx=10)\n",
    "\n",
    "#setting up output label\n",
    "label = Label(tk, text=\"\", font=(\"Arial\", 12), wraplength=400)\n",
    "label.grid(row=4, column=0, columnspan=2, padx=10, pady=10)\n",
    "tk.mainloop()"
   ]
  }
 ],
 "metadata": {
  "kernelspec": {
   "display_name": "Python 3 (ipykernel)",
   "language": "python",
   "name": "python3"
  },
  "language_info": {
   "codemirror_mode": {
    "name": "ipython",
    "version": 3
   },
   "file_extension": ".py",
   "mimetype": "text/x-python",
   "name": "python",
   "nbconvert_exporter": "python",
   "pygments_lexer": "ipython3",
   "version": "3.11.7"
  }
 },
 "nbformat": 4,
 "nbformat_minor": 5
}
